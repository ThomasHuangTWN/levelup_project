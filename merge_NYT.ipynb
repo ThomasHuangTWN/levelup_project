{
 "cells": [
  {
   "cell_type": "markdown",
   "metadata": {},
   "source": [
    "# NewYorkTimes Metadata"
   ]
  },
  {
   "cell_type": "code",
   "execution_count": 1,
   "metadata": {
    "scrolled": true
   },
   "outputs": [
    {
     "name": "stderr",
     "output_type": "stream",
     "text": [
      "100%|██████████████████████████████████████████████████████████████| 82/82 [28:27<00:00, 20.83s/it]\n"
     ]
    }
   ],
   "source": [
    "import tarfile\n",
    "import os\n",
    "import tqdm\n",
    "import glob\n",
    "\n",
    "def content(text):\n",
    "    data=''\n",
    "    head=0\n",
    "    while True:\n",
    "        begin=text.find('<p>', head)\n",
    "        end=text.find('</p>', head)\n",
    "        if begin == -1 or end == -1:\n",
    "            break\n",
    "        data=data+text[begin+3:end]\n",
    "        head=end+3\n",
    "    return data\n",
    "\n",
    "\n",
    "open('C:/Users/thoma/levelup_project/database/New_York_Times.txt', 'w').close()\n",
    "for filename in tqdm.tqdm(glob.glob(r'C:/Users/thoma/levelup_project/nyt/**/*.tgz', recursive=True)):\n",
    "    #print(filename)\n",
    "    with tarfile.open(filename, mode='r') as tar:\n",
    "        for member in tar.getmembers():\n",
    "            if '.xml' in member.name:\n",
    "                #print(member.name)\n",
    "                f=tar.extractfile(member.name)\n",
    "                raw=str(f.read())\n",
    "                text=content(raw).replace('\\\\', '')\n",
    "                with open('C:/Users/thoma/levelup_project/database/New_York_Times.txt', 'a') as file:\n",
    "                    file.write(text+'\\n')\n",
    "                #print(text)"
   ]
  }
 ],
 "metadata": {
  "kernelspec": {
   "display_name": "Python 3",
   "language": "python",
   "name": "python3"
  },
  "language_info": {
   "codemirror_mode": {
    "name": "ipython",
    "version": 3
   },
   "file_extension": ".py",
   "mimetype": "text/x-python",
   "name": "python",
   "nbconvert_exporter": "python",
   "pygments_lexer": "ipython3",
   "version": "3.8.3"
  }
 },
 "nbformat": 4,
 "nbformat_minor": 4
}
