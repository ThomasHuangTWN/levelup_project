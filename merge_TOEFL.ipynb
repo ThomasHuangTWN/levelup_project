{
 "cells": [
  {
   "cell_type": "code",
   "execution_count": 1,
   "metadata": {},
   "outputs": [],
   "source": [
    "import csv\n",
    "import shutil\n",
    "import glob\n",
    "\n",
    "with open('C:/Users/thoma/levelup_project/database/TOEFL/index-training.csv') as csv_file:\n",
    "    dic=csv.DictReader(csv_file)\n",
    "    for row in dic:\n",
    "        shutil.copyfile('C:/Users/thoma/levelup_project/database/TOEFL/original/'+row['file'], \n",
    "                        'C:/Users/thoma/levelup_project/database/TOEFL/'+row['score']+'/'+row['file'])\n",
    "\n",
    "for level in ['high', 'medium', 'low']:\n",
    "    text=''\n",
    "    for filename in glob.glob(f'C:/Users/thoma/levelup_project/database/TOEFL/{level}/*.txt'):\n",
    "        with open(filename, 'r') as input_file:\n",
    "            text+=input_file.read()\n",
    "    with open(f'C:/Users/thoma/levelup_project/database/TOEFL_{level}.txt', 'w') as output_file:\n",
    "        output_file.write(text)"
   ]
  }
 ],
 "metadata": {
  "kernelspec": {
   "display_name": "Python 3",
   "language": "python",
   "name": "python3"
  },
  "language_info": {
   "codemirror_mode": {
    "name": "ipython",
    "version": 3
   },
   "file_extension": ".py",
   "mimetype": "text/x-python",
   "name": "python",
   "nbconvert_exporter": "python",
   "pygments_lexer": "ipython3",
   "version": "3.8.3"
  }
 },
 "nbformat": 4,
 "nbformat_minor": 4
}
