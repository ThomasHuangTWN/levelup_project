{
 "cells": [
  {
   "cell_type": "code",
   "execution_count": null,
   "metadata": {},
   "outputs": [],
   "source": [
    "import json\n",
    "with open('database/toefl_wordcount.txt', 'r') as toefl_text:\n",
    "    toefl_wc=json.load(toefl_file)\n",
    "with open('database/nyt_wordcount.txt', 'r') as nyt_text:\n",
    "    nyt_wc=json.load(nyt_file)\n",
    "word='hello'\n",
    "f_toefl=toefl_wc['all']['word']/toefl_wc['total_wordcount']\n",
    "f_nyc=nyt_wc['all']['word']/nyt_wc['total_wordcount']"
   ]
  }
 ],
 "metadata": {
  "kernelspec": {
   "display_name": "Python 3",
   "language": "python",
   "name": "python3"
  },
  "language_info": {
   "codemirror_mode": {
    "name": "ipython",
    "version": 3
   },
   "file_extension": ".py",
   "mimetype": "text/x-python",
   "name": "python",
   "nbconvert_exporter": "python",
   "pygments_lexer": "ipython3",
   "version": "3.8.3"
  }
 },
 "nbformat": 4,
 "nbformat_minor": 4
}
