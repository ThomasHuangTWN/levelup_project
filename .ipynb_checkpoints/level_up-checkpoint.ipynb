{
 "cells": [
  {
   "cell_type": "code",
   "execution_count": 88,
   "metadata": {},
   "outputs": [
    {
     "name": "stdin",
     "output_type": "stream",
     "text": [
      " This aircraft has been in 'service' for thirty years.\n"
     ]
    }
   ],
   "source": [
    "sentence=input()\n",
    "masked=sentence[:sentence.find('\\'')]+'[MASK]'+sentence[sentence.find('\\'', sentence.find('\\'')+1)+1:]\n",
    "word=sentence[sentence.find('\\'')+1:sentence.find('\\'',sentence.find('\\'')+1)]\n",
    "top_k=50"
   ]
  },
  {
   "cell_type": "code",
   "execution_count": 99,
   "metadata": {},
   "outputs": [
    {
     "name": "stderr",
     "output_type": "stream",
     "text": [
      "Some layers from the model checkpoint at bert-base-uncased were not used when initializing TFBertModel: ['nsp___cls', 'mlm___cls']\n",
      "- This IS expected if you are initializing TFBertModel from the checkpoint of a model trained on another task or with another architecture (e.g. initializing a BertForSequenceClassification model from a BertForPreTraining model).\n",
      "- This IS NOT expected if you are initializing TFBertModel from the checkpoint of a model that you expect to be exactly identical (initializing a BertForSequenceClassification model from a BertForSequenceClassification model).\n",
      "All the layers of TFBertModel were initialized from the model checkpoint at bert-base-uncased.\n",
      "If your task is similar to the task the model of the checkpoint was trained on, you can already use TFBertModel for predictions without further training.\n",
      "All model checkpoint layers were used when initializing TFBertForMaskedLM.\n",
      "\n",
      "All the layers of TFBertForMaskedLM were initialized from the model checkpoint at bert-base-uncased.\n",
      "If your task is similar to the task the model of the checkpoint was trained on, you can already use TFBertForMaskedLM for predictions without further training.\n"
     ]
    }
   ],
   "source": [
    "from transformers import pipeline\n",
    "unmasker = pipeline('fill-mask',model='bert-base-uncased', top_k=top_k)\n",
    "options_complete = unmasker(masked)\n",
    "options = []\n",
    "for doc in options_complete:\n",
    "    options.append((doc['token_str'], doc['score']))"
   ]
  },
  {
   "cell_type": "code",
   "execution_count": 100,
   "metadata": {},
   "outputs": [],
   "source": [
    "import gensim\n",
    "model = gensim.models.Word2Vec.load('word2vec.model')\n",
    "w1 = word\n",
    "synonyms=model.wv.most_similar (positive=w1,topn=top_k)"
   ]
  },
  {
   "cell_type": "code",
   "execution_count": 104,
   "metadata": {},
   "outputs": [
    {
     "name": "stdout",
     "output_type": "stream",
     "text": [
      "[0, 0, 0, 0, 0, 0, 0, 0, 0, 0, 0, 0, 0, 0, 0, 0, 0, 0, 0, 0, 0, 0, 0, 0, 0, 0, 0, 0, 0, 0, 0, 0, 0, 0, 0, 0, 0, 0, 0, 0, 0, 0, 0, 0, 0, 0, 0, 0, 0, 0]\n",
      "{'services': 0.635595440864563, 'offices': 0.45697057247161865, 'contributionthe': 0.45384517312049866, 'servants': 0.4426562190055847, 'assistance': 0.43394920229911804, 'bureaus': 0.42119354009628296, 'transportation': 0.41313275694847107, 'utilities': 0.41173651814460754, 'certified': 0.4041200578212738, 'railways': 0.40020015835762024, 'relations': 0.3995071351528168, 'utility': 0.39866572618484497, 'booking': 0.3926762342453003, 'transportion': 0.3911326825618744, 'accommodations': 0.39111894369125366, 'personnel': 0.3828290104866028, 'agency': 0.3814956843852997, 'employees': 0.3792775571346283, 'railfone': 0.37619906663894653, 'affairs': 0.3756049871444702, 'amtrak': 0.37276598811149597, 'facilities': 0.3658502697944641, 'infoworld': 0.3643212914466858, 'lodging': 0.36087557673454285, 'communications': 0.3607572317123413, 'maintenance': 0.35528403520584106, 'servce': 0.35383695363998413, 'servive': 0.3523677587509155, 'servceqtr': 0.348067045211792, 'audits': 0.34728801250457764, 'operations': 0.3471086919307709, 'airfone': 0.3456578850746155, 'refund': 0.3442568778991699, 'reservists': 0.3440435826778412, 'security': 0.3427969813346863, 'network': 0.34224921464920044, 'operation': 0.3408012390136719, 'brochure': 0.34050408005714417, 'transport': 0.34006357192993164, 'promotions': 0.33931776881217957, 'sevice': 0.3391921818256378, 'tours': 0.3390783369541168, 'health': 0.3390275835990906, 'servicethe': 0.3389839231967926, 'operators': 0.33863088488578796, 'servant': 0.3373810052871704, 'ports': 0.33617573976516724, 'manthe': 0.33507025241851807, 'agencies': 0.33506059646606445, 'registry': 0.33414748311042786}\n"
     ]
    },
    {
     "ename": "AttributeError",
     "evalue": "'int' object has no attribute 'first'",
     "output_type": "error",
     "traceback": [
      "\u001b[1;31m---------------------------------------------------------------------------\u001b[0m",
      "\u001b[1;31mAttributeError\u001b[0m                            Traceback (most recent call last)",
      "\u001b[1;32m<ipython-input-104-4558cba007be>\u001b[0m in \u001b[0;36m<module>\u001b[1;34m\u001b[0m\n\u001b[0;32m      3\u001b[0m \u001b[0mprint\u001b[0m\u001b[1;33m(\u001b[0m\u001b[0msynonyms\u001b[0m\u001b[1;33m)\u001b[0m\u001b[1;33m\u001b[0m\u001b[1;33m\u001b[0m\u001b[0m\n\u001b[0;32m      4\u001b[0m \u001b[1;32mfor\u001b[0m \u001b[0mi\u001b[0m \u001b[1;32min\u001b[0m \u001b[0mrange\u001b[0m\u001b[1;33m(\u001b[0m\u001b[0mk\u001b[0m\u001b[1;33m)\u001b[0m\u001b[1;33m:\u001b[0m\u001b[1;33m\u001b[0m\u001b[1;33m\u001b[0m\u001b[0m\n\u001b[1;32m----> 5\u001b[1;33m     \u001b[0mprint\u001b[0m\u001b[1;33m(\u001b[0m\u001b[0moptions\u001b[0m\u001b[1;33m[\u001b[0m\u001b[0mi\u001b[0m\u001b[1;33m]\u001b[0m\u001b[1;33m.\u001b[0m\u001b[0mfirst\u001b[0m\u001b[1;33m(\u001b[0m\u001b[1;33m)\u001b[0m\u001b[1;33m)\u001b[0m\u001b[1;33m\u001b[0m\u001b[1;33m\u001b[0m\u001b[0m\n\u001b[0m\u001b[0;32m      6\u001b[0m     \u001b[1;32mtry\u001b[0m\u001b[1;33m:\u001b[0m\u001b[1;33m\u001b[0m\u001b[1;33m\u001b[0m\u001b[0m\n\u001b[0;32m      7\u001b[0m         \u001b[0moptions\u001b[0m\u001b[1;33m[\u001b[0m\u001b[0mi\u001b[0m\u001b[1;33m]\u001b[0m\u001b[1;33m.\u001b[0m\u001b[0msecond\u001b[0m\u001b[1;33m*=\u001b[0m\u001b[0msynonyms\u001b[0m\u001b[1;33m[\u001b[0m\u001b[0moptions\u001b[0m\u001b[1;33m[\u001b[0m\u001b[0mi\u001b[0m\u001b[1;33m]\u001b[0m\u001b[1;33m.\u001b[0m\u001b[0msecond\u001b[0m\u001b[1;33m(\u001b[0m\u001b[1;33m)\u001b[0m\u001b[1;33m]\u001b[0m\u001b[1;33m\u001b[0m\u001b[1;33m\u001b[0m\u001b[0m\n",
      "\u001b[1;31mAttributeError\u001b[0m: 'int' object has no attribute 'first'"
     ]
    }
   ],
   "source": [
    "synonyms=dict(synonyms)\n",
    "print(options)\n",
    "print(synonyms)\n",
    "for i in range(k):\n",
    "    print(options[i].first())\n",
    "    try:\n",
    "        options[i].second*=synonyms[options[i].second()]\n",
    "    except:\n",
    "        options[i]=0\n",
    "print(options)"
   ]
  },
  {
   "cell_type": "code",
   "execution_count": null,
   "metadata": {},
   "outputs": [],
   "source": []
  }
 ],
 "metadata": {
  "kernelspec": {
   "display_name": "tf",
   "language": "python",
   "name": "tf"
  },
  "language_info": {
   "codemirror_mode": {
    "name": "ipython",
    "version": 3
   },
   "file_extension": ".py",
   "mimetype": "text/x-python",
   "name": "python",
   "nbconvert_exporter": "python",
   "pygments_lexer": "ipython3",
   "version": "3.8.5"
  }
 },
 "nbformat": 4,
 "nbformat_minor": 4
}
