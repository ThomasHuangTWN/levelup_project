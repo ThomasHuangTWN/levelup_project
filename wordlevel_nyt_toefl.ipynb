{
 "cells": [
  {
   "cell_type": "code",
   "execution_count": 1,
   "metadata": {},
   "outputs": [
    {
     "name": "stdout",
     "output_type": "stream",
     "text": [
      "0.00018332039906073294\n",
      "7.190032560576025e-05\n"
     ]
    }
   ],
   "source": [
    "import json\n",
    "with open('database/toefl_wordcount.json', 'r') as toefl_file:\n",
    "    toefl_wc=json.load(toefl_file)\n",
    "with open('database/nyt_wordcount.json', 'r') as nyt_file:\n",
    "    nyt_wc=json.load(nyt_file)\n",
    "    \n",
    "word='production'\n",
    "\n",
    "try:\n",
    "    f_nyc=nyt_wc['all'][word]/nyt_wc['total_wordcount']\n",
    "    print(f_nyc)\n",
    "except KeyError:\n",
    "    print(0)\n",
    "    \n",
    "try:\n",
    "    f_toefl=toefl_wc['all'][word]/toefl_wc['total_wordcount']\n",
    "    print(f_toefl)\n",
    "except KeyError:\n",
    "    print(0)"
   ]
  }
 ],
 "metadata": {
  "kernelspec": {
   "display_name": "Python 3",
   "language": "python",
   "name": "python3"
  },
  "language_info": {
   "codemirror_mode": {
    "name": "ipython",
    "version": 3
   },
   "file_extension": ".py",
   "mimetype": "text/x-python",
   "name": "python",
   "nbconvert_exporter": "python",
   "pygments_lexer": "ipython3",
   "version": "3.8.3"
  }
 },
 "nbformat": 4,
 "nbformat_minor": 4
}
