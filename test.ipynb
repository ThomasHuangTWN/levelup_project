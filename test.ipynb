{
 "cells": [
  {
   "cell_type": "code",
   "execution_count": 4,
   "metadata": {},
   "outputs": [
    {
     "name": "stdout",
     "output_type": "stream",
     "text": [
      "    With the rapid growth of our civilization, more and more people start paying attentions to enjoy their lives. Indeed, with the passing of time, the meaning of life starts to change. many people realize that health is not equal to wealth. Moreover, we are standing on the crossroad. In this turning point, young people enjoy life more than old peolpe do because young people intend to do a varity of sports, experience less pressure from the society, and obtain the tendency to try something new.\n",
      "\n"
     ]
    }
   ],
   "source": [
    "import spacy\n",
    "nlp = spacy.load(\"en_core_web_sm\")\n",
    "\n",
    "for level in ['high', 'medium', 'low']:\n",
    "    with open('database/TOEFL_high.txt') as text_file:\n",
    "        text=text_file.readline()\n",
    "        print(text)\n",
    "        break"
   ]
  },
  {
   "cell_type": "code",
   "execution_count": 5,
   "metadata": {},
   "outputs": [
    {
     "name": "stdout",
     "output_type": "stream",
     "text": [
      "1\n",
      "2\n",
      "Not Present\n"
     ]
    }
   ],
   "source": [
    "from collections import defaultdict \n",
    "  \n",
    "      \n",
    "# Defining the dict and passing  \n",
    "# lambda as default_factory argument \n",
    "d = defaultdict(lambda: \"Not Present\") \n",
    "d[\"a\"] = 1\n",
    "d[\"b\"] = 2\n",
    "  \n",
    "print(d[\"a\"]) \n",
    "print(d[\"b\"]) \n",
    "print(d[\"c\"]) "
   ]
  },
  {
   "cell_type": "code",
   "execution_count": 9,
   "metadata": {},
   "outputs": [
    {
     "name": "stderr",
     "output_type": "stream",
     "text": [
      "100%|████████████████████████████████████████████████████| 51532/51532 [00:00<00:00, 513364.61it/s]"
     ]
    },
    {
     "name": "stdout",
     "output_type": "stream",
     "text": [
      "3602209\n"
     ]
    },
    {
     "name": "stderr",
     "output_type": "stream",
     "text": [
      "\n"
     ]
    }
   ],
   "source": [
    "import json\n",
    "import tqdm\n",
    "with open('database/toefl_wordcount.json') as file:\n",
    "    wc=json.load(file)\n",
    "total_wordcount=0\n",
    "for word, count in tqdm.tqdm(wc['all'].items()):\n",
    "    total_wordcount+=count\n",
    "print(total_wordcount)"
   ]
  },
  {
   "cell_type": "code",
   "execution_count": null,
   "metadata": {},
   "outputs": [],
   "source": [
    "import cv2\n",
    "image = cv2.imread(\"sample.jpg\")\n",
    "pixel= image[200, 550]\n",
    "print pixel"
   ]
  }
 ],
 "metadata": {
  "kernelspec": {
   "display_name": "Python 3",
   "language": "python",
   "name": "python3"
  },
  "language_info": {
   "codemirror_mode": {
    "name": "ipython",
    "version": 3
   },
   "file_extension": ".py",
   "mimetype": "text/x-python",
   "name": "python",
   "nbconvert_exporter": "python",
   "pygments_lexer": "ipython3",
   "version": "3.8.3"
  }
 },
 "nbformat": 4,
 "nbformat_minor": 4
}
